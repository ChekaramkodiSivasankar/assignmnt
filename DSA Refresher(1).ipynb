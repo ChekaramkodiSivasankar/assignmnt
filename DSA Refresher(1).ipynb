{
 "cells": [
  {
   "cell_type": "markdown",
   "id": "1bf1751c",
   "metadata": {},
   "source": [
    "# Print "
   ]
  },
  {
   "cell_type": "code",
   "execution_count": 5,
   "id": "9219deb9",
   "metadata": {},
   "outputs": [
    {
     "name": "stdout",
     "output_type": "stream",
     "text": [
      "\"This is my first Print statement\"\n"
     ]
    }
   ],
   "source": [
    "print(\"\\\"This is my first Print statement\\\"\")"
   ]
  },
  {
   "cell_type": "code",
   "execution_count": 10,
   "id": "8c94b4a8",
   "metadata": {},
   "outputs": [
    {
     "name": "stdout",
     "output_type": "stream",
     "text": [
      "\"This is my first \n",
      " Print statement\"\n"
     ]
    }
   ],
   "source": [
    "print(\"\\\"This is my first \\n Print statement\\\"\")"
   ]
  },
  {
   "cell_type": "code",
   "execution_count": 12,
   "id": "eda8b8e2",
   "metadata": {},
   "outputs": [
    {
     "name": "stdout",
     "output_type": "stream",
     "text": [
      "c\\Gopu\\name\n"
     ]
    }
   ],
   "source": [
    "print(r\"c\\Gopu\\name\")"
   ]
  },
  {
   "cell_type": "code",
   "execution_count": 16,
   "id": "c8aaace9",
   "metadata": {},
   "outputs": [
    {
     "data": {
      "text/plain": [
       "140718025942960"
      ]
     },
     "execution_count": 16,
     "metadata": {},
     "output_type": "execute_result"
    }
   ],
   "source": [
    "id(5)"
   ]
  },
  {
   "cell_type": "code",
   "execution_count": 15,
   "id": "324097e1",
   "metadata": {},
   "outputs": [],
   "source": [
    "x=5"
   ]
  },
  {
   "cell_type": "code",
   "execution_count": 17,
   "id": "1086b057",
   "metadata": {},
   "outputs": [
    {
     "data": {
      "text/plain": [
       "140718025942960"
      ]
     },
     "execution_count": 17,
     "metadata": {},
     "output_type": "execute_result"
    }
   ],
   "source": [
    "id(x)"
   ]
  },
  {
   "cell_type": "code",
   "execution_count": 1,
   "id": "9e51bd8b",
   "metadata": {},
   "outputs": [],
   "source": [
    "firstName=\"Gopu\""
   ]
  },
  {
   "cell_type": "code",
   "execution_count": 2,
   "id": "fe2013a8",
   "metadata": {},
   "outputs": [
    {
     "data": {
      "text/plain": [
       "'Gopu'"
      ]
     },
     "execution_count": 2,
     "metadata": {},
     "output_type": "execute_result"
    }
   ],
   "source": [
    "firstName"
   ]
  },
  {
   "cell_type": "code",
   "execution_count": 3,
   "id": "efe18731",
   "metadata": {},
   "outputs": [
    {
     "name": "stdout",
     "output_type": "stream",
     "text": [
      "Gopu\n"
     ]
    }
   ],
   "source": [
    "print(firstName)"
   ]
  },
  {
   "cell_type": "code",
   "execution_count": 12,
   "id": "35f3cebd",
   "metadata": {},
   "outputs": [
    {
     "name": "stdout",
     "output_type": "stream",
     "text": [
      "Enter a number5\n",
      "Enter the Second number7\n",
      "5 7\n"
     ]
    }
   ],
   "source": [
    "x=input(\"Enter a number\")\n",
    "y=input(\"Enter the Second number\")\n",
    "print(x,y)"
   ]
  },
  {
   "cell_type": "code",
   "execution_count": 13,
   "id": "82fef317",
   "metadata": {},
   "outputs": [
    {
     "data": {
      "text/plain": [
       "'5'"
      ]
     },
     "execution_count": 13,
     "metadata": {},
     "output_type": "execute_result"
    }
   ],
   "source": [
    "x"
   ]
  },
  {
   "cell_type": "markdown",
   "id": "e91a71fe",
   "metadata": {},
   "source": [
    "Arithmetic Operators"
   ]
  },
  {
   "cell_type": "code",
   "execution_count": 18,
   "id": "7308e6c1",
   "metadata": {},
   "outputs": [],
   "source": [
    "x=8\n",
    "y=4"
   ]
  },
  {
   "cell_type": "code",
   "execution_count": 19,
   "id": "20c6ca6f",
   "metadata": {},
   "outputs": [
    {
     "data": {
      "text/plain": [
       "12"
      ]
     },
     "execution_count": 19,
     "metadata": {},
     "output_type": "execute_result"
    }
   ],
   "source": [
    "x+y"
   ]
  },
  {
   "cell_type": "code",
   "execution_count": 20,
   "id": "fb43d49d",
   "metadata": {},
   "outputs": [
    {
     "data": {
      "text/plain": [
       "32"
      ]
     },
     "execution_count": 20,
     "metadata": {},
     "output_type": "execute_result"
    }
   ],
   "source": [
    "x*y"
   ]
  },
  {
   "cell_type": "code",
   "execution_count": 22,
   "id": "4fca1853",
   "metadata": {},
   "outputs": [
    {
     "data": {
      "text/plain": [
       "2.0"
      ]
     },
     "execution_count": 22,
     "metadata": {},
     "output_type": "execute_result"
    }
   ],
   "source": [
    "x/y"
   ]
  },
  {
   "cell_type": "code",
   "execution_count": 23,
   "id": "c8fd0a0f",
   "metadata": {},
   "outputs": [
    {
     "data": {
      "text/plain": [
       "2"
      ]
     },
     "execution_count": 23,
     "metadata": {},
     "output_type": "execute_result"
    }
   ],
   "source": [
    "x//y"
   ]
  },
  {
   "cell_type": "code",
   "execution_count": 25,
   "id": "18aaf8c6",
   "metadata": {},
   "outputs": [
    {
     "data": {
      "text/plain": [
       "1"
      ]
     },
     "execution_count": 25,
     "metadata": {},
     "output_type": "execute_result"
    }
   ],
   "source": [
    "9//6"
   ]
  },
  {
   "cell_type": "code",
   "execution_count": 26,
   "id": "aa5e615c",
   "metadata": {},
   "outputs": [
    {
     "data": {
      "text/plain": [
       "27"
      ]
     },
     "execution_count": 26,
     "metadata": {},
     "output_type": "execute_result"
    }
   ],
   "source": [
    "3**3"
   ]
  },
  {
   "cell_type": "code",
   "execution_count": 28,
   "id": "97a71331",
   "metadata": {},
   "outputs": [
    {
     "data": {
      "text/plain": [
       "1.2"
      ]
     },
     "execution_count": 28,
     "metadata": {},
     "output_type": "execute_result"
    }
   ],
   "source": [
    "6/5"
   ]
  },
  {
   "cell_type": "code",
   "execution_count": 29,
   "id": "bb7b993a",
   "metadata": {},
   "outputs": [
    {
     "data": {
      "text/plain": [
       "1"
      ]
     },
     "execution_count": 29,
     "metadata": {},
     "output_type": "execute_result"
    }
   ],
   "source": [
    "6%5"
   ]
  },
  {
   "cell_type": "markdown",
   "id": "4ecb558f",
   "metadata": {},
   "source": [
    "Relational Operators"
   ]
  },
  {
   "cell_type": "code",
   "execution_count": 44,
   "id": "c8a885df",
   "metadata": {},
   "outputs": [],
   "source": [
    "x=8\n",
    "y=8"
   ]
  },
  {
   "cell_type": "code",
   "execution_count": 45,
   "id": "81b70308",
   "metadata": {},
   "outputs": [
    {
     "data": {
      "text/plain": [
       "False"
      ]
     },
     "execution_count": 45,
     "metadata": {},
     "output_type": "execute_result"
    }
   ],
   "source": [
    "x!=y"
   ]
  },
  {
   "cell_type": "markdown",
   "id": "7bbb1766",
   "metadata": {},
   "source": [
    "Logical Operators"
   ]
  },
  {
   "cell_type": "code",
   "execution_count": 64,
   "id": "59927ee5",
   "metadata": {},
   "outputs": [],
   "source": [
    "age=17\n",
    "vaccine=\"yes\""
   ]
  },
  {
   "cell_type": "code",
   "execution_count": 66,
   "id": "785efcf2",
   "metadata": {},
   "outputs": [
    {
     "data": {
      "text/plain": [
       "True"
      ]
     },
     "execution_count": 66,
     "metadata": {},
     "output_type": "execute_result"
    }
   ],
   "source": [
    "not(age==19 and vaccine==\"yes\")"
   ]
  },
  {
   "cell_type": "code",
   "execution_count": 63,
   "id": "f9580296",
   "metadata": {},
   "outputs": [
    {
     "data": {
      "text/plain": [
       "False"
      ]
     },
     "execution_count": 63,
     "metadata": {},
     "output_type": "execute_result"
    }
   ],
   "source": [
    "not(True)"
   ]
  },
  {
   "cell_type": "code",
   "execution_count": 68,
   "id": "f801c065",
   "metadata": {},
   "outputs": [],
   "source": [
    "first=\"Gopu\"\n",
    "Second=\"Darsan\""
   ]
  },
  {
   "cell_type": "code",
   "execution_count": 70,
   "id": "0d60ee4c",
   "metadata": {},
   "outputs": [
    {
     "data": {
      "text/plain": [
       "True"
      ]
     },
     "execution_count": 70,
     "metadata": {},
     "output_type": "execute_result"
    }
   ],
   "source": [
    "first=='Gopu' and Second=='Darsan'"
   ]
  },
  {
   "cell_type": "markdown",
   "id": "62710766",
   "metadata": {},
   "source": [
    "Assignment Operator"
   ]
  },
  {
   "cell_type": "code",
   "execution_count": 71,
   "id": "5f5699b9",
   "metadata": {},
   "outputs": [],
   "source": [
    "x=10"
   ]
  },
  {
   "cell_type": "code",
   "execution_count": 77,
   "id": "3d0492d3",
   "metadata": {},
   "outputs": [
    {
     "data": {
      "text/plain": [
       "20.0"
      ]
     },
     "execution_count": 77,
     "metadata": {},
     "output_type": "execute_result"
    }
   ],
   "source": [
    "x+=10 #x=x+10\n",
    "x"
   ]
  },
  {
   "cell_type": "code",
   "execution_count": 78,
   "id": "0c69c8ea",
   "metadata": {},
   "outputs": [
    {
     "data": {
      "text/plain": [
       "10.0"
      ]
     },
     "execution_count": 78,
     "metadata": {},
     "output_type": "execute_result"
    }
   ],
   "source": [
    "x-=10 #x=x-10\n",
    "x"
   ]
  },
  {
   "cell_type": "code",
   "execution_count": 81,
   "id": "920f6a75",
   "metadata": {},
   "outputs": [
    {
     "data": {
      "text/plain": [
       "100.0"
      ]
     },
     "execution_count": 81,
     "metadata": {},
     "output_type": "execute_result"
    }
   ],
   "source": [
    "x*=10 #x=x*10\n",
    "x"
   ]
  },
  {
   "cell_type": "code",
   "execution_count": 80,
   "id": "4214b1d6",
   "metadata": {},
   "outputs": [
    {
     "data": {
      "text/plain": [
       "10.0"
      ]
     },
     "execution_count": 80,
     "metadata": {},
     "output_type": "execute_result"
    }
   ],
   "source": [
    "x/=10 #x=x/10\n",
    "x"
   ]
  },
  {
   "cell_type": "code",
   "execution_count": 82,
   "id": "004c0124",
   "metadata": {},
   "outputs": [],
   "source": [
    "x=x+1"
   ]
  },
  {
   "cell_type": "code",
   "execution_count": 83,
   "id": "dd02758a",
   "metadata": {},
   "outputs": [],
   "source": [
    "x=20"
   ]
  },
  {
   "cell_type": "code",
   "execution_count": 84,
   "id": "6d398f42",
   "metadata": {},
   "outputs": [
    {
     "data": {
      "text/plain": [
       "int"
      ]
     },
     "execution_count": 84,
     "metadata": {},
     "output_type": "execute_result"
    }
   ],
   "source": [
    "type(x)"
   ]
  },
  {
   "cell_type": "code",
   "execution_count": 85,
   "id": "e7ab96f3",
   "metadata": {},
   "outputs": [],
   "source": [
    "x=34.78"
   ]
  },
  {
   "cell_type": "code",
   "execution_count": 86,
   "id": "307f0f2c",
   "metadata": {},
   "outputs": [
    {
     "data": {
      "text/plain": [
       "float"
      ]
     },
     "execution_count": 86,
     "metadata": {},
     "output_type": "execute_result"
    }
   ],
   "source": [
    "type(x)"
   ]
  },
  {
   "cell_type": "code",
   "execution_count": 91,
   "id": "7b6a80f5",
   "metadata": {},
   "outputs": [
    {
     "data": {
      "text/plain": [
       "(6+12j)"
      ]
     },
     "execution_count": 91,
     "metadata": {},
     "output_type": "execute_result"
    }
   ],
   "source": [
    "x=1+5j\n",
    "y=5+7j\n",
    "x+y"
   ]
  },
  {
   "cell_type": "code",
   "execution_count": 92,
   "id": "d0b2f9b3",
   "metadata": {},
   "outputs": [
    {
     "data": {
      "text/plain": [
       "complex"
      ]
     },
     "execution_count": 92,
     "metadata": {},
     "output_type": "execute_result"
    }
   ],
   "source": [
    "type(x)"
   ]
  },
  {
   "cell_type": "code",
   "execution_count": 102,
   "id": "992a5e32",
   "metadata": {},
   "outputs": [],
   "source": [
    "x=\"Iam from ICT Academy of Kerala\""
   ]
  },
  {
   "cell_type": "code",
   "execution_count": 94,
   "id": "ab3db457",
   "metadata": {},
   "outputs": [
    {
     "data": {
      "text/plain": [
       "str"
      ]
     },
     "execution_count": 94,
     "metadata": {},
     "output_type": "execute_result"
    }
   ],
   "source": [
    "type(x)"
   ]
  },
  {
   "cell_type": "code",
   "execution_count": 100,
   "id": "a9305375",
   "metadata": {},
   "outputs": [
    {
     "data": {
      "text/plain": [
       "'a rm'"
      ]
     },
     "execution_count": 100,
     "metadata": {},
     "output_type": "execute_result"
    }
   ],
   "source": [
    "x[1:9:2]"
   ]
  },
  {
   "cell_type": "code",
   "execution_count": 105,
   "id": "d54d9a6a",
   "metadata": {},
   "outputs": [
    {
     "data": {
      "text/plain": [
       "'alareK fo ymedacA TCI morf maI'"
      ]
     },
     "execution_count": 105,
     "metadata": {},
     "output_type": "execute_result"
    }
   ],
   "source": [
    "x[::-1]"
   ]
  },
  {
   "cell_type": "code",
   "execution_count": 104,
   "id": "9f5accdb",
   "metadata": {},
   "outputs": [
    {
     "data": {
      "text/plain": [
       "''"
      ]
     },
     "execution_count": 104,
     "metadata": {},
     "output_type": "execute_result"
    }
   ],
   "source": [
    "x[]"
   ]
  },
  {
   "cell_type": "code",
   "execution_count": 106,
   "id": "d4bbc296",
   "metadata": {},
   "outputs": [
    {
     "data": {
      "text/plain": [
       "30"
      ]
     },
     "execution_count": 106,
     "metadata": {},
     "output_type": "execute_result"
    }
   ],
   "source": [
    "len(x)"
   ]
  },
  {
   "cell_type": "code",
   "execution_count": 107,
   "id": "3ecb8355",
   "metadata": {},
   "outputs": [],
   "source": [
    "x=\"Iam from ICT Academy of Kerala\""
   ]
  },
  {
   "cell_type": "code",
   "execution_count": 109,
   "id": "b5cfcf57",
   "metadata": {},
   "outputs": [
    {
     "data": {
      "text/plain": [
       "5"
      ]
     },
     "execution_count": 109,
     "metadata": {},
     "output_type": "execute_result"
    }
   ],
   "source": [
    "x.count(' ')"
   ]
  },
  {
   "cell_type": "code",
   "execution_count": 110,
   "id": "6d93923a",
   "metadata": {},
   "outputs": [
    {
     "data": {
      "text/plain": [
       "13"
      ]
     },
     "execution_count": 110,
     "metadata": {},
     "output_type": "execute_result"
    }
   ],
   "source": [
    "x.index('Academy')"
   ]
  },
  {
   "cell_type": "code",
   "execution_count": 112,
   "id": "7313d006",
   "metadata": {},
   "outputs": [],
   "source": [
    "x='mathematics'"
   ]
  },
  {
   "cell_type": "code",
   "execution_count": 114,
   "id": "363425bf",
   "metadata": {},
   "outputs": [
    {
     "data": {
      "text/plain": [
       "2"
      ]
     },
     "execution_count": 114,
     "metadata": {},
     "output_type": "execute_result"
    }
   ],
   "source": [
    "x.count('m')"
   ]
  },
  {
   "cell_type": "code",
   "execution_count": 116,
   "id": "5c29ede8",
   "metadata": {},
   "outputs": [
    {
     "data": {
      "text/plain": [
       "8"
      ]
     },
     "execution_count": 116,
     "metadata": {},
     "output_type": "execute_result"
    }
   ],
   "source": [
    "x.index('ics')"
   ]
  },
  {
   "cell_type": "code",
   "execution_count": null,
   "id": "7058986a",
   "metadata": {},
   "outputs": [],
   "source": [
    "Yes\n",
    "yes\n",
    "yES\n",
    "yes"
   ]
  },
  {
   "cell_type": "code",
   "execution_count": 119,
   "id": "c771e528",
   "metadata": {},
   "outputs": [],
   "source": [
    "skills=['JAVA','Python','C#','Selenium',18]"
   ]
  },
  {
   "cell_type": "code",
   "execution_count": 120,
   "id": "f76a5095",
   "metadata": {},
   "outputs": [
    {
     "data": {
      "text/plain": [
       "list"
      ]
     },
     "execution_count": 120,
     "metadata": {},
     "output_type": "execute_result"
    }
   ],
   "source": [
    "type(skills)"
   ]
  },
  {
   "cell_type": "code",
   "execution_count": 123,
   "id": "093a5510",
   "metadata": {},
   "outputs": [],
   "source": [
    "test=skills[0]"
   ]
  },
  {
   "cell_type": "code",
   "execution_count": 124,
   "id": "162b1684",
   "metadata": {},
   "outputs": [
    {
     "data": {
      "text/plain": [
       "'JAVA'"
      ]
     },
     "execution_count": 124,
     "metadata": {},
     "output_type": "execute_result"
    }
   ],
   "source": [
    "test"
   ]
  },
  {
   "cell_type": "code",
   "execution_count": 125,
   "id": "bc3287f3",
   "metadata": {},
   "outputs": [
    {
     "data": {
      "text/plain": [
       "'AV'"
      ]
     },
     "execution_count": 125,
     "metadata": {},
     "output_type": "execute_result"
    }
   ],
   "source": [
    "test[1:3]"
   ]
  },
  {
   "cell_type": "code",
   "execution_count": 126,
   "id": "b912b1a0",
   "metadata": {},
   "outputs": [],
   "source": [
    "skills.append('FSD')"
   ]
  },
  {
   "cell_type": "code",
   "execution_count": 127,
   "id": "f5258b53",
   "metadata": {},
   "outputs": [
    {
     "data": {
      "text/plain": [
       "['JAVA', 'Python', 'C#', 'Selenium', 18, 'FSD']"
      ]
     },
     "execution_count": 127,
     "metadata": {},
     "output_type": "execute_result"
    }
   ],
   "source": [
    "skills"
   ]
  },
  {
   "cell_type": "code",
   "execution_count": 128,
   "id": "cbe82f3a",
   "metadata": {},
   "outputs": [],
   "source": [
    "skills.insert(2,'DSA')"
   ]
  },
  {
   "cell_type": "code",
   "execution_count": 129,
   "id": "6d0639f6",
   "metadata": {},
   "outputs": [
    {
     "data": {
      "text/plain": [
       "['JAVA', 'Python', 'DSA', 'C#', 'Selenium', 18, 'FSD']"
      ]
     },
     "execution_count": 129,
     "metadata": {},
     "output_type": "execute_result"
    }
   ],
   "source": [
    "skills"
   ]
  },
  {
   "cell_type": "code",
   "execution_count": 131,
   "id": "f7478c06",
   "metadata": {},
   "outputs": [],
   "source": [
    "subskill=['skill1','skill1']"
   ]
  },
  {
   "cell_type": "code",
   "execution_count": 132,
   "id": "7b87b470",
   "metadata": {},
   "outputs": [],
   "source": [
    "skills.extend(subskill)"
   ]
  },
  {
   "cell_type": "markdown",
   "id": "912e14a7",
   "metadata": {},
   "source": [
    "## skills"
   ]
  },
  {
   "cell_type": "code",
   "execution_count": 134,
   "id": "93ee139b",
   "metadata": {},
   "outputs": [
    {
     "name": "stdout",
     "output_type": "stream",
     "text": [
      "EnterGopu,Ram,Dev\n"
     ]
    }
   ],
   "source": [
    "test=list(input(\"Enter\"))"
   ]
  },
  {
   "cell_type": "code",
   "execution_count": 135,
   "id": "a6768751",
   "metadata": {},
   "outputs": [
    {
     "data": {
      "text/plain": [
       "list"
      ]
     },
     "execution_count": 135,
     "metadata": {},
     "output_type": "execute_result"
    }
   ],
   "source": [
    "type(test)"
   ]
  },
  {
   "cell_type": "code",
   "execution_count": 136,
   "id": "e202671e",
   "metadata": {},
   "outputs": [
    {
     "data": {
      "text/plain": [
       "['G', 'o', 'p', 'u', ',', 'R', 'a', 'm', ',', 'D', 'e', 'v']"
      ]
     },
     "execution_count": 136,
     "metadata": {},
     "output_type": "execute_result"
    }
   ],
   "source": [
    "test"
   ]
  },
  {
   "cell_type": "code",
   "execution_count": 137,
   "id": "91715d19",
   "metadata": {},
   "outputs": [
    {
     "data": {
      "text/plain": [
       "['JAVA', 'Python', 'DSA', 'C#', 'Selenium', 18, 'FSD', 'skill1', 'skill1']"
      ]
     },
     "execution_count": 137,
     "metadata": {},
     "output_type": "execute_result"
    }
   ],
   "source": [
    "skills"
   ]
  },
  {
   "cell_type": "code",
   "execution_count": 138,
   "id": "adef2db0",
   "metadata": {},
   "outputs": [],
   "source": [
    "del skills[6]"
   ]
  },
  {
   "cell_type": "code",
   "execution_count": 139,
   "id": "74b07ce1",
   "metadata": {},
   "outputs": [
    {
     "data": {
      "text/plain": [
       "['JAVA', 'Python', 'DSA', 'C#', 'Selenium', 18, 'skill1', 'skill1']"
      ]
     },
     "execution_count": 139,
     "metadata": {},
     "output_type": "execute_result"
    }
   ],
   "source": [
    "skills"
   ]
  },
  {
   "cell_type": "code",
   "execution_count": 142,
   "id": "de9d2ab3",
   "metadata": {},
   "outputs": [
    {
     "data": {
      "text/plain": [
       "['JAVA', 'Python', 'DSA', 'C#', 'Selenium', 18, 'skill1']"
      ]
     },
     "execution_count": 142,
     "metadata": {},
     "output_type": "execute_result"
    }
   ],
   "source": [
    "skills"
   ]
  },
  {
   "cell_type": "code",
   "execution_count": 148,
   "id": "de21fec2",
   "metadata": {},
   "outputs": [
    {
     "name": "stdout",
     "output_type": "stream",
     "text": [
      "The Deleted value is DSA\n"
     ]
    }
   ],
   "source": [
    "delItem=skills.pop()\n",
    "print(f\"The Deleted value is {delItem}\")"
   ]
  },
  {
   "cell_type": "code",
   "execution_count": 145,
   "id": "86436798",
   "metadata": {},
   "outputs": [],
   "source": [
    "del skills[3]"
   ]
  },
  {
   "cell_type": "code",
   "execution_count": 146,
   "id": "0d67adfa",
   "metadata": {},
   "outputs": [
    {
     "data": {
      "text/plain": [
       "['JAVA', 'Python', 'DSA', 'Selenium']"
      ]
     },
     "execution_count": 146,
     "metadata": {},
     "output_type": "execute_result"
    }
   ],
   "source": [
    "skills"
   ]
  },
  {
   "cell_type": "code",
   "execution_count": 149,
   "id": "0c1beb35",
   "metadata": {},
   "outputs": [],
   "source": [
    "skills[0]='TestSkill'"
   ]
  },
  {
   "cell_type": "code",
   "execution_count": 150,
   "id": "9a8306ee",
   "metadata": {},
   "outputs": [
    {
     "data": {
      "text/plain": [
       "['TestSkill', 'Python']"
      ]
     },
     "execution_count": 150,
     "metadata": {},
     "output_type": "execute_result"
    }
   ],
   "source": [
    "skills"
   ]
  },
  {
   "cell_type": "code",
   "execution_count": 155,
   "id": "75222a7e",
   "metadata": {},
   "outputs": [],
   "source": [
    "tup=('empid1','empid2','empid2',45)"
   ]
  },
  {
   "cell_type": "code",
   "execution_count": 157,
   "id": "6016bd18",
   "metadata": {},
   "outputs": [
    {
     "data": {
      "text/plain": [
       "('empid1', 'empid2', 'empid2', 45)"
      ]
     },
     "execution_count": 157,
     "metadata": {},
     "output_type": "execute_result"
    }
   ],
   "source": [
    "tup"
   ]
  },
  {
   "cell_type": "code",
   "execution_count": 153,
   "id": "9a7853b3",
   "metadata": {},
   "outputs": [
    {
     "ename": "AttributeError",
     "evalue": "'tuple' object has no attribute 'append'",
     "output_type": "error",
     "traceback": [
      "\u001b[1;31m---------------------------------------------------------------------------\u001b[0m",
      "\u001b[1;31mAttributeError\u001b[0m                            Traceback (most recent call last)",
      "\u001b[1;32m<ipython-input-153-3d0bb840d547>\u001b[0m in \u001b[0;36m<module>\u001b[1;34m\u001b[0m\n\u001b[1;32m----> 1\u001b[1;33m \u001b[0mtup\u001b[0m\u001b[1;33m.\u001b[0m\u001b[0mappend\u001b[0m\u001b[1;33m(\u001b[0m\u001b[1;34m'empid3'\u001b[0m\u001b[1;33m)\u001b[0m\u001b[1;33m\u001b[0m\u001b[1;33m\u001b[0m\u001b[0m\n\u001b[0m",
      "\u001b[1;31mAttributeError\u001b[0m: 'tuple' object has no attribute 'append'"
     ]
    }
   ],
   "source": [
    "tup.append('empid3')"
   ]
  },
  {
   "cell_type": "code",
   "execution_count": 154,
   "id": "a9e546b8",
   "metadata": {},
   "outputs": [
    {
     "ename": "TypeError",
     "evalue": "'tuple' object doesn't support item deletion",
     "output_type": "error",
     "traceback": [
      "\u001b[1;31m---------------------------------------------------------------------------\u001b[0m",
      "\u001b[1;31mTypeError\u001b[0m                                 Traceback (most recent call last)",
      "\u001b[1;32m<ipython-input-154-28eafd173795>\u001b[0m in \u001b[0;36m<module>\u001b[1;34m\u001b[0m\n\u001b[1;32m----> 1\u001b[1;33m \u001b[1;32mdel\u001b[0m \u001b[0mtup\u001b[0m\u001b[1;33m[\u001b[0m\u001b[1;36m0\u001b[0m\u001b[1;33m]\u001b[0m\u001b[1;33m\u001b[0m\u001b[1;33m\u001b[0m\u001b[0m\n\u001b[0m",
      "\u001b[1;31mTypeError\u001b[0m: 'tuple' object doesn't support item deletion"
     ]
    }
   ],
   "source": [
    "del tup[0]"
   ]
  },
  {
   "cell_type": "code",
   "execution_count": 158,
   "id": "3b047b3a",
   "metadata": {},
   "outputs": [
    {
     "data": {
      "text/plain": [
       "('empid1', 'empid2', 'empid2', 45)"
      ]
     },
     "execution_count": 158,
     "metadata": {},
     "output_type": "execute_result"
    }
   ],
   "source": [
    "tup"
   ]
  },
  {
   "cell_type": "code",
   "execution_count": 159,
   "id": "7d4afc2b",
   "metadata": {},
   "outputs": [],
   "source": [
    "converted=list(tup)"
   ]
  },
  {
   "cell_type": "code",
   "execution_count": 160,
   "id": "b2840aa2",
   "metadata": {},
   "outputs": [
    {
     "data": {
      "text/plain": [
       "['empid1', 'empid2', 'empid2', 45]"
      ]
     },
     "execution_count": 160,
     "metadata": {},
     "output_type": "execute_result"
    }
   ],
   "source": [
    "converted"
   ]
  },
  {
   "cell_type": "code",
   "execution_count": 163,
   "id": "3f6febe2",
   "metadata": {},
   "outputs": [],
   "source": [
    "test=[(1,2,3),45,67]"
   ]
  },
  {
   "cell_type": "code",
   "execution_count": 164,
   "id": "ed9e63c9",
   "metadata": {},
   "outputs": [
    {
     "data": {
      "text/plain": [
       "[(1, 2, 3), 45, 67]"
      ]
     },
     "execution_count": 164,
     "metadata": {},
     "output_type": "execute_result"
    }
   ],
   "source": [
    "test"
   ]
  },
  {
   "cell_type": "code",
   "execution_count": 165,
   "id": "54b23b98",
   "metadata": {},
   "outputs": [
    {
     "name": "stdout",
     "output_type": "stream",
     "text": [
      "(1, 2, ['a', 'b'])\n"
     ]
    }
   ],
   "source": [
    "li = ['a','b']\n",
    "a = (1,2,li)\n",
    "print(a)"
   ]
  },
  {
   "cell_type": "code",
   "execution_count": 166,
   "id": "4495f992",
   "metadata": {},
   "outputs": [
    {
     "name": "stdout",
     "output_type": "stream",
     "text": [
      "['a', 'b', 'c']\n"
     ]
    }
   ],
   "source": [
    "li.append('c')\n",
    "print(li)\n"
   ]
  },
  {
   "cell_type": "code",
   "execution_count": 167,
   "id": "959fd9f7",
   "metadata": {},
   "outputs": [
    {
     "name": "stdout",
     "output_type": "stream",
     "text": [
      "(1, 2, ['a', 'b', 'c'])\n"
     ]
    }
   ],
   "source": [
    "print(a)"
   ]
  },
  {
   "cell_type": "markdown",
   "id": "cfdc888d",
   "metadata": {},
   "source": [
    "# DAY 2 DSA Refresher Course"
   ]
  },
  {
   "cell_type": "markdown",
   "id": "53927619",
   "metadata": {},
   "source": [
    "Sets"
   ]
  },
  {
   "cell_type": "code",
   "execution_count": 1,
   "id": "9c275a05",
   "metadata": {},
   "outputs": [],
   "source": [
    "dataScience={'Python','Git',,'R','SAS','Tableau'}"
   ]
  },
  {
   "cell_type": "code",
   "execution_count": 5,
   "id": "1d96a436",
   "metadata": {},
   "outputs": [
    {
     "data": {
      "text/plain": [
       "{'Git', 'Python', 'R', 'SAS', 'Tableau'}"
      ]
     },
     "execution_count": 5,
     "metadata": {},
     "output_type": "execute_result"
    }
   ],
   "source": [
    "dataScience"
   ]
  },
  {
   "cell_type": "code",
   "execution_count": 6,
   "id": "5869ca70",
   "metadata": {},
   "outputs": [],
   "source": [
    "dataScience.add('Powerbi')"
   ]
  },
  {
   "cell_type": "code",
   "execution_count": 7,
   "id": "c995e22e",
   "metadata": {},
   "outputs": [
    {
     "data": {
      "text/plain": [
       "{'Git', 'Powerbi', 'Python', 'R', 'SAS', 'Tableau'}"
      ]
     },
     "execution_count": 7,
     "metadata": {},
     "output_type": "execute_result"
    }
   ],
   "source": [
    "dataScience"
   ]
  },
  {
   "cell_type": "code",
   "execution_count": 9,
   "id": "4eed4332",
   "metadata": {},
   "outputs": [],
   "source": [
    "dataScience.remove('R')"
   ]
  },
  {
   "cell_type": "code",
   "execution_count": 10,
   "id": "46649dd3",
   "metadata": {},
   "outputs": [
    {
     "data": {
      "text/plain": [
       "{'Git', 'Powerbi', 'Python', 'SAS', 'Tableau'}"
      ]
     },
     "execution_count": 10,
     "metadata": {},
     "output_type": "execute_result"
    }
   ],
   "source": [
    "dataScience"
   ]
  },
  {
   "cell_type": "code",
   "execution_count": 11,
   "id": "e1aca5bc",
   "metadata": {},
   "outputs": [
    {
     "ename": "KeyError",
     "evalue": "'R'",
     "output_type": "error",
     "traceback": [
      "\u001b[1;31m---------------------------------------------------------------------------\u001b[0m",
      "\u001b[1;31mKeyError\u001b[0m                                  Traceback (most recent call last)",
      "\u001b[1;32m<ipython-input-11-8f865091a52a>\u001b[0m in \u001b[0;36m<module>\u001b[1;34m\u001b[0m\n\u001b[1;32m----> 1\u001b[1;33m \u001b[0mdataScience\u001b[0m\u001b[1;33m.\u001b[0m\u001b[0mremove\u001b[0m\u001b[1;33m(\u001b[0m\u001b[1;34m'R'\u001b[0m\u001b[1;33m)\u001b[0m\u001b[1;33m\u001b[0m\u001b[1;33m\u001b[0m\u001b[0m\n\u001b[0m",
      "\u001b[1;31mKeyError\u001b[0m: 'R'"
     ]
    }
   ],
   "source": [
    "dataScience.remove('R')"
   ]
  },
  {
   "cell_type": "code",
   "execution_count": 13,
   "id": "f734655d",
   "metadata": {},
   "outputs": [],
   "source": [
    "dataScience.discard('SAS')"
   ]
  },
  {
   "cell_type": "code",
   "execution_count": 14,
   "id": "9412ed39",
   "metadata": {},
   "outputs": [
    {
     "data": {
      "text/plain": [
       "{'Git', 'Powerbi', 'Python', 'Tableau'}"
      ]
     },
     "execution_count": 14,
     "metadata": {},
     "output_type": "execute_result"
    }
   ],
   "source": [
    "dataScience"
   ]
  },
  {
   "cell_type": "code",
   "execution_count": 15,
   "id": "debedbc6",
   "metadata": {},
   "outputs": [],
   "source": [
    "dataScience.clear()"
   ]
  },
  {
   "cell_type": "code",
   "execution_count": 16,
   "id": "117a5953",
   "metadata": {},
   "outputs": [
    {
     "data": {
      "text/plain": [
       "set()"
      ]
     },
     "execution_count": 16,
     "metadata": {},
     "output_type": "execute_result"
    }
   ],
   "source": [
    "dataScience"
   ]
  },
  {
   "cell_type": "code",
   "execution_count": null,
   "id": "e71b63aa",
   "metadata": {},
   "outputs": [],
   "source": [
    "#Dictionary"
   ]
  },
  {
   "cell_type": "code",
   "execution_count": 29,
   "id": "ad93555d",
   "metadata": {},
   "outputs": [],
   "source": [
    "person={'name':'Gopu','age':36,56:'Male'}"
   ]
  },
  {
   "cell_type": "code",
   "execution_count": 19,
   "id": "f01745a3",
   "metadata": {},
   "outputs": [
    {
     "data": {
      "text/plain": [
       "dict"
      ]
     },
     "execution_count": 19,
     "metadata": {},
     "output_type": "execute_result"
    }
   ],
   "source": [
    "type(person)"
   ]
  },
  {
   "cell_type": "code",
   "execution_count": 20,
   "id": "36f4e5bc",
   "metadata": {},
   "outputs": [
    {
     "data": {
      "text/plain": [
       "'Gopu'"
      ]
     },
     "execution_count": 20,
     "metadata": {},
     "output_type": "execute_result"
    }
   ],
   "source": [
    "person['name']"
   ]
  },
  {
   "cell_type": "code",
   "execution_count": 21,
   "id": "6c922996",
   "metadata": {},
   "outputs": [
    {
     "ename": "KeyError",
     "evalue": "'designation'",
     "output_type": "error",
     "traceback": [
      "\u001b[1;31m---------------------------------------------------------------------------\u001b[0m",
      "\u001b[1;31mKeyError\u001b[0m                                  Traceback (most recent call last)",
      "\u001b[1;32m<ipython-input-21-3fa3040a32d0>\u001b[0m in \u001b[0;36m<module>\u001b[1;34m\u001b[0m\n\u001b[1;32m----> 1\u001b[1;33m \u001b[0mperson\u001b[0m\u001b[1;33m[\u001b[0m\u001b[1;34m'designation'\u001b[0m\u001b[1;33m]\u001b[0m\u001b[1;33m\u001b[0m\u001b[1;33m\u001b[0m\u001b[0m\n\u001b[0m",
      "\u001b[1;31mKeyError\u001b[0m: 'designation'"
     ]
    }
   ],
   "source": [
    "person['designation']"
   ]
  },
  {
   "cell_type": "code",
   "execution_count": 25,
   "id": "ef0c127a",
   "metadata": {},
   "outputs": [
    {
     "data": {
      "text/plain": [
       "36"
      ]
     },
     "execution_count": 25,
     "metadata": {},
     "output_type": "execute_result"
    }
   ],
   "source": []
  },
  {
   "cell_type": "code",
   "execution_count": 30,
   "id": "cb2aca1c",
   "metadata": {},
   "outputs": [
    {
     "data": {
      "text/plain": [
       "{'name': 'Gopu', 'age': 36, 56: 'Male'}"
      ]
     },
     "execution_count": 30,
     "metadata": {},
     "output_type": "execute_result"
    }
   ],
   "source": [
    "person"
   ]
  },
  {
   "cell_type": "code",
   "execution_count": 28,
   "id": "47d0440b",
   "metadata": {},
   "outputs": [
    {
     "data": {
      "text/plain": [
       "36"
      ]
     },
     "execution_count": 28,
     "metadata": {},
     "output_type": "execute_result"
    }
   ],
   "source": [
    "person.get('age','Key is not present in the dictionary')"
   ]
  },
  {
   "cell_type": "code",
   "execution_count": 31,
   "id": "2c229670",
   "metadata": {},
   "outputs": [],
   "source": [
    "person['designation']='Knowledge Officer'"
   ]
  },
  {
   "cell_type": "code",
   "execution_count": 32,
   "id": "1630f9a6",
   "metadata": {},
   "outputs": [
    {
     "data": {
      "text/plain": [
       "{'name': 'Gopu', 'age': 36, 56: 'Male', 'designation': 'Knowledge Officer'}"
      ]
     },
     "execution_count": 32,
     "metadata": {},
     "output_type": "execute_result"
    }
   ],
   "source": [
    "person"
   ]
  },
  {
   "cell_type": "code",
   "execution_count": 33,
   "id": "c7397111",
   "metadata": {},
   "outputs": [],
   "source": [
    "person.update({'Place':'Kollam'})"
   ]
  },
  {
   "cell_type": "code",
   "execution_count": 34,
   "id": "b746eefb",
   "metadata": {},
   "outputs": [
    {
     "data": {
      "text/plain": [
       "{'name': 'Gopu',\n",
       " 'age': 36,\n",
       " 56: 'Male',\n",
       " 'designation': 'Knowledge Officer',\n",
       " 'Place': 'Kollam'}"
      ]
     },
     "execution_count": 34,
     "metadata": {},
     "output_type": "execute_result"
    }
   ],
   "source": [
    "person"
   ]
  },
  {
   "cell_type": "code",
   "execution_count": 36,
   "id": "1c600022",
   "metadata": {},
   "outputs": [],
   "source": [
    "person.update({'skills':['JAVA','Python','C Sharp']})"
   ]
  },
  {
   "cell_type": "code",
   "execution_count": 37,
   "id": "0b5c6df8",
   "metadata": {},
   "outputs": [
    {
     "data": {
      "text/plain": [
       "{'name': 'Gopu',\n",
       " 'age': 36,\n",
       " 56: 'Male',\n",
       " 'designation': 'Knowledge Officer',\n",
       " 'Place': 'Kollam',\n",
       " 'skills': ['JAVA', 'Python', 'C Sharp']}"
      ]
     },
     "execution_count": 37,
     "metadata": {},
     "output_type": "execute_result"
    }
   ],
   "source": [
    "person"
   ]
  },
  {
   "cell_type": "code",
   "execution_count": 39,
   "id": "51d7d094",
   "metadata": {},
   "outputs": [
    {
     "data": {
      "text/plain": [
       "'Male'"
      ]
     },
     "execution_count": 39,
     "metadata": {},
     "output_type": "execute_result"
    }
   ],
   "source": [
    "person.pop(56)"
   ]
  },
  {
   "cell_type": "code",
   "execution_count": 40,
   "id": "7993333d",
   "metadata": {},
   "outputs": [
    {
     "data": {
      "text/plain": [
       "('skills', ['JAVA', 'Python', 'C Sharp'])"
      ]
     },
     "execution_count": 40,
     "metadata": {},
     "output_type": "execute_result"
    }
   ],
   "source": [
    "person.popitem()"
   ]
  },
  {
   "cell_type": "code",
   "execution_count": 41,
   "id": "64bf0d20",
   "metadata": {},
   "outputs": [
    {
     "data": {
      "text/plain": [
       "{'name': 'Gopu',\n",
       " 'age': 36,\n",
       " 'designation': 'Knowledge Officer',\n",
       " 'Place': 'Kollam'}"
      ]
     },
     "execution_count": 41,
     "metadata": {},
     "output_type": "execute_result"
    }
   ],
   "source": [
    "person"
   ]
  },
  {
   "cell_type": "code",
   "execution_count": 42,
   "id": "d92e89c3",
   "metadata": {},
   "outputs": [],
   "source": [
    "del person['Place']"
   ]
  },
  {
   "cell_type": "code",
   "execution_count": 43,
   "id": "eb8a2910",
   "metadata": {},
   "outputs": [
    {
     "data": {
      "text/plain": [
       "{'name': 'Gopu', 'age': 36, 'designation': 'Knowledge Officer'}"
      ]
     },
     "execution_count": 43,
     "metadata": {},
     "output_type": "execute_result"
    }
   ],
   "source": [
    "person"
   ]
  },
  {
   "cell_type": "code",
   "execution_count": 45,
   "id": "83561931",
   "metadata": {},
   "outputs": [
    {
     "data": {
      "text/plain": [
       "36"
      ]
     },
     "execution_count": 45,
     "metadata": {},
     "output_type": "execute_result"
    }
   ],
   "source": [
    "person.pop('age')"
   ]
  },
  {
   "cell_type": "code",
   "execution_count": 46,
   "id": "6bf1f079",
   "metadata": {},
   "outputs": [
    {
     "data": {
      "text/plain": [
       "('designation', 'Knowledge Officer')"
      ]
     },
     "execution_count": 46,
     "metadata": {},
     "output_type": "execute_result"
    }
   ],
   "source": [
    "person.popitem()"
   ]
  },
  {
   "cell_type": "code",
   "execution_count": 47,
   "id": "058282cb",
   "metadata": {},
   "outputs": [
    {
     "data": {
      "text/plain": [
       "{'name': 'Gopu'}"
      ]
     },
     "execution_count": 47,
     "metadata": {},
     "output_type": "execute_result"
    }
   ],
   "source": [
    "person"
   ]
  },
  {
   "cell_type": "code",
   "execution_count": 49,
   "id": "8bc1c88b",
   "metadata": {},
   "outputs": [],
   "source": [
    "person={'name':'Gopu','age':36,'gender':'Male'}"
   ]
  },
  {
   "cell_type": "code",
   "execution_count": 50,
   "id": "68d0a7c6",
   "metadata": {},
   "outputs": [],
   "source": [
    "person['age']=40"
   ]
  },
  {
   "cell_type": "code",
   "execution_count": 51,
   "id": "74b21886",
   "metadata": {},
   "outputs": [
    {
     "data": {
      "text/plain": [
       "{'name': 'Gopu', 'age': 40, 'gender': 'Male'}"
      ]
     },
     "execution_count": 51,
     "metadata": {},
     "output_type": "execute_result"
    }
   ],
   "source": [
    "person"
   ]
  },
  {
   "cell_type": "code",
   "execution_count": 53,
   "id": "524c1d3b",
   "metadata": {},
   "outputs": [],
   "source": [
    "person.update({'age':42})"
   ]
  },
  {
   "cell_type": "code",
   "execution_count": 54,
   "id": "4ae8b94b",
   "metadata": {},
   "outputs": [
    {
     "data": {
      "text/plain": [
       "{'name': 'Gopu', 'age': 42, 'gender': 'Male'}"
      ]
     },
     "execution_count": 54,
     "metadata": {},
     "output_type": "execute_result"
    }
   ],
   "source": [
    "person"
   ]
  },
  {
   "cell_type": "code",
   "execution_count": 57,
   "id": "3d6152d7",
   "metadata": {},
   "outputs": [],
   "source": [
    "person={'Employee1':\n",
    "        {'name':'Gopu','age':37,'gender':'male'},\n",
    "        'Employee2':\n",
    "        {'name':'Vimal','age':28,'gender':'male'},\n",
    "        'Employee3':\n",
    "        {'name':'Sam','age':29,'gender':'female'},\n",
    "    }"
   ]
  },
  {
   "cell_type": "code",
   "execution_count": 58,
   "id": "79192423",
   "metadata": {},
   "outputs": [
    {
     "data": {
      "text/plain": [
       "{'Employee1': {'name': 'Gopu', 'age': 37, 'gender': 'male'},\n",
       " 'Employee2': {'name': 'Vimal', 'age': 28, 'gender': 'male'},\n",
       " 'Employee3': {'name': 'Sam', 'age': 29, 'gender': 'female'}}"
      ]
     },
     "execution_count": 58,
     "metadata": {},
     "output_type": "execute_result"
    }
   ],
   "source": [
    "person"
   ]
  },
  {
   "cell_type": "code",
   "execution_count": 60,
   "id": "5f155605",
   "metadata": {},
   "outputs": [
    {
     "data": {
      "text/plain": [
       "'Vimal'"
      ]
     },
     "execution_count": 60,
     "metadata": {},
     "output_type": "execute_result"
    }
   ],
   "source": [
    "person['Employee2']['name']"
   ]
  },
  {
   "cell_type": "code",
   "execution_count": 61,
   "id": "8771901a",
   "metadata": {},
   "outputs": [],
   "source": [
    "del person['Employee2']"
   ]
  },
  {
   "cell_type": "markdown",
   "id": "ce2f5875",
   "metadata": {},
   "source": [
    "# Conditional Statements"
   ]
  },
  {
   "cell_type": "code",
   "execution_count": 70,
   "id": "e9a7c978",
   "metadata": {},
   "outputs": [
    {
     "name": "stdout",
     "output_type": "stream",
     "text": [
      "Enter your age19\n",
      "Vaccinated?[yes/no]yes\n",
      "Eligible for Voting\n",
      "Happy Voting\n"
     ]
    }
   ],
   "source": [
    "age=int(input(\"Enter your age\"))\n",
    "vaccine=input(\"Vaccinated?[yes/no]\")\n",
    "if age>=18 and vaccine=='yes':\n",
    "    print(\"Eligible for Voting\")\n",
    "    print('Happy Voting')\n",
    "else:\n",
    "    print('Not Eligible for Voting')\n",
    "    print('Come back when you are 18 years old or Vaccinated')"
   ]
  },
  {
   "cell_type": "code",
   "execution_count": 73,
   "id": "92650f21",
   "metadata": {},
   "outputs": [
    {
     "name": "stdout",
     "output_type": "stream",
     "text": [
      "Enter the number8\n",
      "Invalid number option\n"
     ]
    }
   ],
   "source": [
    "num=int(input(\"Enter the number\"))\n",
    "if num==1:\n",
    "    print(\"One\")\n",
    "elif num==2:\n",
    "    print(\"Two\")\n",
    "elif num==3:\n",
    "    print(\"Three\")\n",
    "else:\n",
    "    print(\"Invalid number option\")"
   ]
  },
  {
   "cell_type": "markdown",
   "id": "190c10b4",
   "metadata": {},
   "source": [
    "# Looping Statement"
   ]
  },
  {
   "cell_type": "code",
   "execution_count": 74,
   "id": "dc4e7e8e",
   "metadata": {},
   "outputs": [
    {
     "data": {
      "text/plain": [
       "range(0, 10)"
      ]
     },
     "execution_count": 74,
     "metadata": {},
     "output_type": "execute_result"
    }
   ],
   "source": [
    "range(0,10)"
   ]
  },
  {
   "cell_type": "code",
   "execution_count": 75,
   "id": "08349b9b",
   "metadata": {},
   "outputs": [
    {
     "name": "stdout",
     "output_type": "stream",
     "text": [
      "range(0, 10)\n"
     ]
    }
   ],
   "source": [
    "print(range(0,10))"
   ]
  },
  {
   "cell_type": "code",
   "execution_count": null,
   "id": "b52b15c9",
   "metadata": {},
   "outputs": [],
   "source": [
    "#While Loop"
   ]
  },
  {
   "cell_type": "code",
   "execution_count": null,
   "id": "8e9533fd",
   "metadata": {},
   "outputs": [],
   "source": [
    "count=0\n",
    "while(count<20):\n",
    "    print(\"Step Forward\")\n",
    "    count+=1"
   ]
  },
  {
   "cell_type": "code",
   "execution_count": null,
   "id": "037d497f",
   "metadata": {},
   "outputs": [],
   "source": [
    "#for Loop"
   ]
  },
  {
   "cell_type": "code",
   "execution_count": 76,
   "id": "74fc0246",
   "metadata": {},
   "outputs": [],
   "source": [
    "person={'name':'Gopu','age':36,'gender':'Male'}"
   ]
  },
  {
   "cell_type": "code",
   "execution_count": 77,
   "id": "cb9bc71b",
   "metadata": {},
   "outputs": [
    {
     "name": "stdout",
     "output_type": "stream",
     "text": [
      "{'name': 'Gopu', 'age': 36, 'gender': 'Male'}\n"
     ]
    }
   ],
   "source": [
    "print(person)"
   ]
  },
  {
   "cell_type": "code",
   "execution_count": 78,
   "id": "682afcc1",
   "metadata": {},
   "outputs": [
    {
     "name": "stdout",
     "output_type": "stream",
     "text": [
      "name\n",
      "age\n",
      "gender\n"
     ]
    }
   ],
   "source": [
    "for det in person:\n",
    "    print(det)"
   ]
  },
  {
   "cell_type": "code",
   "execution_count": 79,
   "id": "8b064fe3",
   "metadata": {},
   "outputs": [],
   "source": [
    "num=[3,5,6,7,8,9,11,12]"
   ]
  },
  {
   "cell_type": "code",
   "execution_count": 80,
   "id": "963f4ede",
   "metadata": {},
   "outputs": [
    {
     "name": "stdout",
     "output_type": "stream",
     "text": [
      "6\n",
      "8\n",
      "12\n"
     ]
    }
   ],
   "source": [
    "for eve in num:\n",
    "    if eve%2 ==0:\n",
    "        print(eve)"
   ]
  },
  {
   "cell_type": "code",
   "execution_count": 81,
   "id": "530d3dda",
   "metadata": {},
   "outputs": [],
   "source": [
    "person={'name':'Gopu','age':36,'gender':'Male'}"
   ]
  },
  {
   "cell_type": "code",
   "execution_count": 86,
   "id": "d7dcda32",
   "metadata": {},
   "outputs": [
    {
     "name": "stdout",
     "output_type": "stream",
     "text": [
      "The key is name\n",
      "The val is Gopu\n",
      "The key is age\n",
      "The val is 36\n",
      "The key is gender\n",
      "The val is Male\n"
     ]
    }
   ],
   "source": [
    "for det,val in person.items():\n",
    "    print(\"The key is\",det)\n",
    "    print(\"The val is\",val)\n",
    "    "
   ]
  },
  {
   "cell_type": "code",
   "execution_count": 96,
   "id": "8ceb8a4c",
   "metadata": {},
   "outputs": [],
   "source": [
    "def addNum(num1,num2):\n",
    "    y=num1+num2\n",
    "    print(y)"
   ]
  },
  {
   "cell_type": "code",
   "execution_count": 97,
   "id": "093626dd",
   "metadata": {},
   "outputs": [
    {
     "name": "stdout",
     "output_type": "stream",
     "text": [
      "Enter the number 1:-5\n",
      "Enter the number 2:-6\n",
      "11\n"
     ]
    }
   ],
   "source": [
    "num1=int(input(\"Enter the number 1:-\"))\n",
    "num2=int(input(\"Enter the number 2:-\"))\n",
    "addNum(num1,num2)"
   ]
  },
  {
   "cell_type": "code",
   "execution_count": 95,
   "id": "998d6b0d",
   "metadata": {},
   "outputs": [
    {
     "data": {
      "text/plain": [
       "3628800"
      ]
     },
     "execution_count": 95,
     "metadata": {},
     "output_type": "execute_result"
    }
   ],
   "source": [
    "import math\n",
    "math.factorial(10)"
   ]
  },
  {
   "cell_type": "code",
   "execution_count": 102,
   "id": "e3df154a",
   "metadata": {},
   "outputs": [
    {
     "name": "stdout",
     "output_type": "stream",
     "text": [
      "1\n",
      "2\n",
      "3\n",
      "4\n"
     ]
    },
    {
     "ename": "KeyboardInterrupt",
     "evalue": "",
     "output_type": "error",
     "traceback": [
      "\u001b[1;31m---------------------------------------------------------------------------\u001b[0m",
      "\u001b[1;31mKeyboardInterrupt\u001b[0m                         Traceback (most recent call last)",
      "\u001b[1;32m<ipython-input-102-3374b6325a4f>\u001b[0m in \u001b[0;36m<module>\u001b[1;34m\u001b[0m\n\u001b[0;32m      1\u001b[0m \u001b[0mcount\u001b[0m\u001b[1;33m=\u001b[0m\u001b[1;36m1\u001b[0m\u001b[1;33m\u001b[0m\u001b[1;33m\u001b[0m\u001b[0m\n\u001b[0;32m      2\u001b[0m \u001b[1;32mwhile\u001b[0m\u001b[1;33m(\u001b[0m\u001b[0mcount\u001b[0m\u001b[1;33m<\u001b[0m\u001b[1;36m10\u001b[0m\u001b[1;33m)\u001b[0m\u001b[1;33m:\u001b[0m\u001b[1;33m\u001b[0m\u001b[1;33m\u001b[0m\u001b[0m\n\u001b[1;32m----> 3\u001b[1;33m     \u001b[1;32mif\u001b[0m\u001b[1;33m(\u001b[0m\u001b[0mcount\u001b[0m\u001b[1;33m==\u001b[0m\u001b[1;36m5\u001b[0m\u001b[1;33m)\u001b[0m\u001b[1;33m:\u001b[0m\u001b[1;33m\u001b[0m\u001b[1;33m\u001b[0m\u001b[0m\n\u001b[0m\u001b[0;32m      4\u001b[0m         \u001b[1;32mcontinue\u001b[0m\u001b[1;33m;\u001b[0m\u001b[1;33m\u001b[0m\u001b[1;33m\u001b[0m\u001b[0m\n\u001b[0;32m      5\u001b[0m     \u001b[0mprint\u001b[0m\u001b[1;33m(\u001b[0m\u001b[0mcount\u001b[0m\u001b[1;33m)\u001b[0m\u001b[1;33m\u001b[0m\u001b[1;33m\u001b[0m\u001b[0m\n",
      "\u001b[1;31mKeyboardInterrupt\u001b[0m: "
     ]
    }
   ],
   "source": [
    "count=1\n",
    "while(count<10):\n",
    "    if(count==5):\n",
    "        continue;\n",
    "    print(count)\n",
    "    count+=1\n",
    "    "
   ]
  },
  {
   "cell_type": "code",
   "execution_count": 103,
   "id": "f143e163",
   "metadata": {},
   "outputs": [
    {
     "name": "stdout",
     "output_type": "stream",
     "text": [
      "*\n",
      "**\n",
      "***\n",
      "****\n",
      "*****\n",
      "******\n",
      "*******\n",
      "********\n",
      "*********\n"
     ]
    }
   ],
   "source": [
    "for i in range(1,10):\n",
    "    print(\"*\"*i)"
   ]
  },
  {
   "cell_type": "code",
   "execution_count": 104,
   "id": "a46bff2d",
   "metadata": {},
   "outputs": [
    {
     "name": "stdout",
     "output_type": "stream",
     "text": [
      "Enter number5\n",
      "Enter number6\n",
      "Enter number7\n",
      "Enter number8\n",
      "Enter number9\n"
     ]
    }
   ],
   "source": [
    "x=[]\n",
    "for i in range(1,6):\n",
    "    n=input(\"Enter number\")\n",
    "    x.append(n)\n",
    "    "
   ]
  },
  {
   "cell_type": "code",
   "execution_count": 105,
   "id": "c124424c",
   "metadata": {},
   "outputs": [
    {
     "data": {
      "text/plain": [
       "['5', '6', '7', '8', '9']"
      ]
     },
     "execution_count": 105,
     "metadata": {},
     "output_type": "execute_result"
    }
   ],
   "source": [
    "x"
   ]
  },
  {
   "cell_type": "code",
   "execution_count": null,
   "id": "04d88c4a",
   "metadata": {},
   "outputs": [],
   "source": []
  }
 ],
 "metadata": {
  "kernelspec": {
   "display_name": "Python 3",
   "language": "python",
   "name": "python3"
  },
  "language_info": {
   "codemirror_mode": {
    "name": "ipython",
    "version": 3
   },
   "file_extension": ".py",
   "mimetype": "text/x-python",
   "name": "python",
   "nbconvert_exporter": "python",
   "pygments_lexer": "ipython3",
   "version": "3.8.8"
  }
 },
 "nbformat": 4,
 "nbformat_minor": 5
}
